{
 "cells": [
  {
   "cell_type": "code",
   "execution_count": 2,
   "id": "dependent-entry",
   "metadata": {},
   "outputs": [
    {
     "name": "stdout",
     "output_type": "stream",
     "text": [
      "['First Citizen:', 'Before we proceed any further, hear me speak.', '', 'All:', 'Speak, speak.', '', 'First Citizen:', 'You are all resolved rather to die than to famish?', '']\n"
     ]
    }
   ],
   "source": [
    "import re\n",
    "import numpy as np\n",
    "import tensorflow as tf\n",
    "import os\n",
    "\n",
    "# 파일 열기\n",
    "file_path = os.getenv('HOME') + '/aiffel/lyricist/data/shakespeare.txt'\n",
    "with open(file_path, \"r\") as f:\n",
    "    raw_corpus = f.read().splitlines() # 텍스트를 라인 단위로 끊어서 list 형태로 읽어온다.\n",
    "\n",
    "print(raw_corpus[:9])"
   ]
  },
  {
   "cell_type": "code",
   "execution_count": 5,
   "id": "other-timber",
   "metadata": {},
   "outputs": [
    {
     "name": "stdout",
     "output_type": "stream",
     "text": [
      "Before we proceed any further, hear me speak.\n",
      "Speak, speak.\n",
      "You are all resolved rather to die than to famish?\n"
     ]
    }
   ],
   "source": [
    "for idx, sentence in enumerate(raw_corpus):\n",
    "    if len(sentence) == 0: continue   # 길이가 0인 문장은 건너뜁니다.\n",
    "    if sentence[-1] == \":\": continue  # 문장의 끝이 : 인 문장은 건너뜁니다.\n",
    "\n",
    "    if idx > 9: break   # 일단 문장 10개만 확인해 볼 겁니다.\n",
    "        \n",
    "    print(sentence)"
   ]
  },
  {
   "cell_type": "code",
   "execution_count": 6,
   "id": "novel-prince",
   "metadata": {},
   "outputs": [
    {
     "name": "stdout",
     "output_type": "stream",
     "text": [
      "<start> this is sample sentence . <end>\n"
     ]
    }
   ],
   "source": [
    "# 입력된 문장을\n",
    "#     1. 소문자로 바꾸고, 양쪽 공백을 지웁니다\n",
    "#     2. 특수문자 양쪽에 공백을 넣고\n",
    "#     3. 여러개의 공백은 하나의 공백으로 바꿉니다\n",
    "#     4. a-zA-Z?.!,¿가 아닌 모든 문자를 하나의 공백으로 바꿉니다\n",
    "#     5. 다시 양쪽 공백을 지웁니다\n",
    "#     6. 문장 시작에는 <start>, 끝에는 <end>를 추가합니다\n",
    "# 이 순서로 처리해주면 문제가 되는 상황을 방지할 수 있겠네요!\n",
    "def preprocess_sentence(sentence):\n",
    "    sentence = sentence.lower().strip() # 1\n",
    "    sentence = re.sub(r\"([?.!,¿])\", r\" \\1 \", sentence) # 2\n",
    "    sentence = re.sub(r'[\" \"]+', \" \", sentence) # 3\n",
    "    sentence = re.sub(r\"[^a-zA-Z?.!,¿]+\", \" \", sentence) # 4\n",
    "    sentence = sentence.strip() # 5\n",
    "    sentence = '<start> ' + sentence + ' <end>' # 6\n",
    "    return sentence\n",
    "\n",
    "# 이 문장이 어떻게 필터링되는지 확인해 보세요.\n",
    "print(preprocess_sentence(\"This @_is ;;;sample        sentence.\"))"
   ]
  },
  {
   "cell_type": "code",
   "execution_count": 7,
   "id": "facial-juice",
   "metadata": {},
   "outputs": [
    {
     "data": {
      "text/plain": [
       "['<start> before we proceed any further , hear me speak . <end>',\n",
       " '<start> speak , speak . <end>',\n",
       " '<start> you are all resolved rather to die than to famish ? <end>',\n",
       " '<start> resolved . resolved . <end>',\n",
       " '<start> first , you know caius marcius is chief enemy to the people . <end>',\n",
       " '<start> we know t , we know t . <end>',\n",
       " '<start> let us kill him , and we ll have corn at our own price . <end>',\n",
       " '<start> is t a verdict ? <end>',\n",
       " '<start> no more talking on t let it be done away , away ! <end>',\n",
       " '<start> one word , good citizens . <end>']"
      ]
     },
     "execution_count": 7,
     "metadata": {},
     "output_type": "execute_result"
    }
   ],
   "source": [
    "# 여기에 정제된 문장을 모을겁니다\n",
    "corpus = []\n",
    "\n",
    "for sentence in raw_corpus:\n",
    "    # 우리가 원하지 않는 문장은 건너뜁니다\n",
    "    if len(sentence) == 0: continue\n",
    "    if sentence[-1] == \":\": continue\n",
    "    \n",
    "    # 정제를 하고 담아주세요\n",
    "    preprocessed_sentence = preprocess_sentence(sentence)\n",
    "    corpus.append(preprocessed_sentence)\n",
    "        \n",
    "# 정제된 결과를 10개만 확인해보죠\n",
    "corpus[:10]"
   ]
  },
  {
   "cell_type": "code",
   "execution_count": 8,
   "id": "military-vancouver",
   "metadata": {},
   "outputs": [
    {
     "name": "stdout",
     "output_type": "stream",
     "text": [
      "[[   2  143   40 ...    0    0    0]\n",
      " [   2  110    4 ...    0    0    0]\n",
      " [   2   11   50 ...    0    0    0]\n",
      " ...\n",
      " [   2  149 4553 ...    0    0    0]\n",
      " [   2   34   71 ...    0    0    0]\n",
      " [   2  945   34 ...    0    0    0]] <keras_preprocessing.text.Tokenizer object at 0x7fe948dec050>\n"
     ]
    }
   ],
   "source": [
    "# 토큰화 할 때 텐서플로우의 Tokenizer와 pad_sequences를 사용합니다\n",
    "# 더 잘 알기 위해 아래 문서들을 참고하면 좋습니다\n",
    "# https://www.tensorflow.org/api_docs/python/tf/keras/preprocessing/text/Tokenizer\n",
    "# https://www.tensorflow.org/api_docs/python/tf/keras/preprocessing/sequence/pad_sequences\n",
    "def tokenize(corpus):\n",
    "    # 7000단어를 기억할 수 있는 tokenizer를 만들겁니다\n",
    "    # 우리는 이미 문장을 정제했으니 filters가 필요없어요\n",
    "    # 7000단어에 포함되지 못한 단어는 '<unk>'로 바꿀거에요\n",
    "    tokenizer = tf.keras.preprocessing.text.Tokenizer(\n",
    "        num_words=7000, \n",
    "        filters=' ',\n",
    "        oov_token=\"<unk>\"\n",
    "    )\n",
    "    # corpus를 이용해 tokenizer 내부의 단어장을 완성합니다\n",
    "    tokenizer.fit_on_texts(corpus)\n",
    "    # 준비한 tokenizer를 이용해 corpus를 Tensor로 변환합니다\n",
    "    tensor = tokenizer.texts_to_sequences(corpus)   \n",
    "    # 입력 데이터의 시퀀스 길이를 일정하게 맞춰줍니다\n",
    "    # 만약 시퀀스가 짧다면 문장 뒤에 패딩을 붙여 길이를 맞춰줍니다.\n",
    "    # 문장 앞에 패딩을 붙여 길이를 맞추고 싶다면 padding='pre'를 사용합니다\n",
    "    tensor = tf.keras.preprocessing.sequence.pad_sequences(tensor, padding='post')  \n",
    "    \n",
    "    print(tensor,tokenizer)\n",
    "    return tensor, tokenizer\n",
    "\n",
    "tensor, tokenizer = tokenize(corpus)"
   ]
  },
  {
   "cell_type": "code",
   "execution_count": 9,
   "id": "sticky-plasma",
   "metadata": {},
   "outputs": [
    {
     "name": "stdout",
     "output_type": "stream",
     "text": [
      "[[   2  143   40  933  140  591    4  124   24  110]\n",
      " [   2  110    4  110    5    3    0    0    0    0]\n",
      " [   2   11   50   43 1201  316    9  201   74    9]]\n"
     ]
    }
   ],
   "source": [
    "print(tensor[:3, :10])"
   ]
  },
  {
   "cell_type": "code",
   "execution_count": 11,
   "id": "blond-lafayette",
   "metadata": {},
   "outputs": [
    {
     "name": "stdout",
     "output_type": "stream",
     "text": [
      "1 : <unk>\n",
      "2 : <start>\n",
      "3 : <end>\n",
      "4 : ,\n",
      "5 : .\n",
      "6 : the\n",
      "7 : and\n",
      "8 : i\n",
      "9 : to\n",
      "10 : of\n"
     ]
    }
   ],
   "source": [
    "for idx in tokenizer.index_word:\n",
    "    print(idx, \":\", tokenizer.index_word[idx])\n",
    "\n",
    "    if idx >= 10: break"
   ]
  },
  {
   "cell_type": "code",
   "execution_count": 12,
   "id": "perfect-david",
   "metadata": {},
   "outputs": [
    {
     "name": "stdout",
     "output_type": "stream",
     "text": [
      "[  2 143  40 933 140 591   4 124  24 110   5   3   0   0   0   0   0   0\n",
      "   0   0]\n",
      "[143  40 933 140 591   4 124  24 110   5   3   0   0   0   0   0   0   0\n",
      "   0   0]\n"
     ]
    }
   ],
   "source": [
    "# tensor에서 마지막 토큰을 잘라내서 소스 문장을 생성합니다\n",
    "# 마지막 토큰은 <end>가 아니라 <pad>일 가능성이 높습니다.\n",
    "src_input = tensor[:, :-1]  \n",
    "# tensor에서 <start>를 잘라내서 타겟 문장을 생성합니다.\n",
    "tgt_input = tensor[:, 1:]    \n",
    "\n",
    "print(src_input[0])\n",
    "print(tgt_input[0])"
   ]
  },
  {
   "cell_type": "code",
   "execution_count": 13,
   "id": "elementary-forward",
   "metadata": {},
   "outputs": [
    {
     "data": {
      "text/plain": [
       "<BatchDataset shapes: ((256, 20), (256, 20)), types: (tf.int32, tf.int32)>"
      ]
     },
     "execution_count": 13,
     "metadata": {},
     "output_type": "execute_result"
    }
   ],
   "source": [
    "BUFFER_SIZE = len(src_input)\n",
    "BATCH_SIZE = 256\n",
    "steps_per_epoch = len(src_input) // BATCH_SIZE\n",
    "\n",
    " # tokenizer가 구축한 단어사전 내 7000개와, 여기 포함되지 않은 0:<pad>를 포함하여 7001개\n",
    "VOCAB_SIZE = tokenizer.num_words + 1   \n",
    "\n",
    "# 준비한 데이터 소스로부터 데이터셋을 만듭니다\n",
    "# 데이터셋에 대해서는 아래 문서를 참고하세요\n",
    "# 자세히 알아둘수록 도움이 많이 되는 중요한 문서입니다\n",
    "# https://www.tensorflow.org/api_docs/python/tf/data/Dataset\n",
    "dataset = tf.data.Dataset.from_tensor_slices((src_input, tgt_input))\n",
    "dataset = dataset.shuffle(BUFFER_SIZE)\n",
    "dataset = dataset.batch(BATCH_SIZE, drop_remainder=True)\n",
    "dataset"
   ]
  },
  {
   "cell_type": "code",
   "execution_count": 14,
   "id": "distant-welding",
   "metadata": {},
   "outputs": [],
   "source": [
    "class TextGenerator(tf.keras.Model):\n",
    "    def __init__(self, vocab_size, embedding_size, hidden_size):\n",
    "        super().__init__()\n",
    "        \n",
    "        self.embedding = tf.keras.layers.Embedding(vocab_size, embedding_size)\n",
    "        self.rnn_1 = tf.keras.layers.LSTM(hidden_size, return_sequences=True)\n",
    "        self.rnn_2 = tf.keras.layers.LSTM(hidden_size, return_sequences=True)\n",
    "        self.linear = tf.keras.layers.Dense(vocab_size)\n",
    "        \n",
    "    def call(self, x):\n",
    "        out = self.embedding(x)\n",
    "        out = self.rnn_1(out)\n",
    "        out = self.rnn_2(out)\n",
    "        out = self.linear(out)\n",
    "        \n",
    "        return out\n",
    "    \n",
    "embedding_size = 256\n",
    "hidden_size = 1024\n",
    "model = TextGenerator(tokenizer.num_words + 1, embedding_size , hidden_size)"
   ]
  },
  {
   "cell_type": "code",
   "execution_count": 15,
   "id": "incident-continuity",
   "metadata": {},
   "outputs": [
    {
     "data": {
      "text/plain": [
       "<tf.Tensor: shape=(256, 20, 7001), dtype=float32, numpy=\n",
       "array([[[ 1.6541089e-04, -6.1611870e-05,  4.1083124e-05, ...,\n",
       "          5.8249916e-05,  2.8960686e-04,  4.8960774e-05],\n",
       "        [ 3.9194766e-04, -9.5344636e-05,  2.1892507e-04, ...,\n",
       "         -1.3306283e-04,  5.1406270e-04, -1.5023323e-04],\n",
       "        [ 5.9038156e-04,  2.2785047e-05,  3.1731295e-04, ...,\n",
       "         -4.2412171e-04,  5.1525544e-04,  3.7504800e-05],\n",
       "        ...,\n",
       "        [-2.9517961e-04, -6.6139205e-06, -1.7253599e-03, ...,\n",
       "         -8.3276513e-04, -4.5977617e-04, -9.5172564e-04],\n",
       "        [-4.4574338e-04,  7.9857957e-05, -2.0968977e-03, ...,\n",
       "         -8.4418908e-04, -5.8603560e-04, -1.1510288e-03],\n",
       "        [-6.2445091e-04,  1.6456624e-04, -2.3916373e-03, ...,\n",
       "         -8.5171446e-04, -7.1244419e-04, -1.3651247e-03]],\n",
       "\n",
       "       [[ 1.6541089e-04, -6.1611870e-05,  4.1083124e-05, ...,\n",
       "          5.8249916e-05,  2.8960686e-04,  4.8960774e-05],\n",
       "        [ 1.4161845e-04, -6.5178196e-05,  2.5147296e-04, ...,\n",
       "         -5.3742144e-05,  4.0561517e-04,  1.1475853e-05],\n",
       "        [ 1.4171323e-05, -7.4278491e-05,  5.6430098e-04, ...,\n",
       "         -5.2630325e-04,  2.5942043e-04,  1.4599516e-04],\n",
       "        ...,\n",
       "        [-6.8543624e-04, -3.6126201e-04, -1.8844684e-03, ...,\n",
       "         -1.0743437e-03, -1.2359007e-03, -1.3253347e-03],\n",
       "        [-7.1585941e-04, -2.1316594e-04, -2.1850031e-03, ...,\n",
       "         -1.0358206e-03, -1.2593783e-03, -1.4832226e-03],\n",
       "        [-7.9144491e-04, -6.8390684e-05, -2.4265859e-03, ...,\n",
       "         -1.0121672e-03, -1.2796369e-03, -1.6516987e-03]],\n",
       "\n",
       "       [[ 1.6541089e-04, -6.1611870e-05,  4.1083124e-05, ...,\n",
       "          5.8249916e-05,  2.8960686e-04,  4.8960774e-05],\n",
       "        [ 1.9475052e-04, -1.2711616e-04,  2.8754215e-04, ...,\n",
       "          1.8197186e-04,  6.4509589e-04, -4.9681345e-05],\n",
       "        [ 1.8505407e-04, -2.0872227e-04,  3.0056317e-04, ...,\n",
       "          5.5948319e-04,  4.2729679e-04,  4.8451402e-05],\n",
       "        ...,\n",
       "        [ 8.2613900e-04,  2.7114142e-05, -2.1348915e-03, ...,\n",
       "          1.4661298e-04,  3.2673503e-04, -7.6252868e-04],\n",
       "        [ 5.3641386e-04,  1.4351669e-04, -2.3883414e-03, ...,\n",
       "         -5.5060689e-05,  2.0016996e-04, -1.0086427e-03],\n",
       "        [ 2.2899982e-04,  2.4765107e-04, -2.5876001e-03, ...,\n",
       "         -2.3607948e-04,  5.3126314e-05, -1.2599971e-03]],\n",
       "\n",
       "       ...,\n",
       "\n",
       "       [[ 1.6541089e-04, -6.1611870e-05,  4.1083124e-05, ...,\n",
       "          5.8249916e-05,  2.8960686e-04,  4.8960774e-05],\n",
       "        [ 3.2025413e-04, -3.6949458e-04,  8.3505089e-05, ...,\n",
       "          1.1577693e-04,  6.2970951e-04,  2.8089719e-04],\n",
       "        [ 4.8010336e-04, -5.2958139e-04,  2.8513305e-04, ...,\n",
       "          5.1635812e-05,  5.4443441e-04,  3.3737603e-04],\n",
       "        ...,\n",
       "        [ 9.3747942e-05, -4.0442377e-05, -2.4198485e-03, ...,\n",
       "         -1.2819255e-04, -2.5965480e-04, -1.7080120e-03],\n",
       "        [-2.2649854e-04,  9.5004842e-05, -2.6063891e-03, ...,\n",
       "         -2.6326100e-04, -3.8224101e-04, -1.9243417e-03],\n",
       "        [-5.2693911e-04,  2.1804316e-04, -2.7597016e-03, ...,\n",
       "         -3.8173184e-04, -5.0667557e-04, -2.1295948e-03]],\n",
       "\n",
       "       [[ 1.6541089e-04, -6.1611870e-05,  4.1083124e-05, ...,\n",
       "          5.8249916e-05,  2.8960686e-04,  4.8960774e-05],\n",
       "        [ 2.0343355e-04, -9.0863687e-05, -2.7304291e-04, ...,\n",
       "          1.7733347e-04,  3.6470935e-04,  2.9224782e-05],\n",
       "        [ 3.4548581e-04,  9.6497373e-05, -6.5058540e-04, ...,\n",
       "          3.5905236e-04,  2.0007248e-04, -3.0813707e-04],\n",
       "        ...,\n",
       "        [ 3.9827271e-04,  9.6541989e-05, -2.1196455e-03, ...,\n",
       "         -1.2654552e-03,  8.0381020e-04, -2.0053115e-04],\n",
       "        [ 2.4159026e-04,  1.9676004e-04, -2.4222836e-03, ...,\n",
       "         -1.1394687e-03,  5.5434287e-04, -4.5958269e-04],\n",
       "        [ 4.0680156e-05,  2.9205775e-04, -2.6637311e-03, ...,\n",
       "         -1.0411405e-03,  2.9561383e-04, -7.3284755e-04]],\n",
       "\n",
       "       [[ 1.6541089e-04, -6.1611870e-05,  4.1083124e-05, ...,\n",
       "          5.8249916e-05,  2.8960686e-04,  4.8960774e-05],\n",
       "        [ 1.4623639e-04, -2.0560256e-05, -3.7703830e-05, ...,\n",
       "          1.3393658e-04,  6.2043121e-04,  1.5749381e-04],\n",
       "        [-1.4648669e-04, -2.7612338e-04, -1.8461009e-04, ...,\n",
       "         -4.3001030e-05,  8.1667613e-04,  4.0349833e-04],\n",
       "        ...,\n",
       "        [ 2.7685935e-06,  8.0463418e-05, -2.8524350e-03, ...,\n",
       "         -7.6081115e-04,  7.1632043e-05, -1.0724785e-03],\n",
       "        [-2.6419706e-04,  1.3815031e-04, -3.0311393e-03, ...,\n",
       "         -7.3918747e-04, -5.5595538e-05, -1.3234017e-03],\n",
       "        [-5.2503322e-04,  2.0056980e-04, -3.1643659e-03, ...,\n",
       "         -7.3858118e-04, -1.8616469e-04, -1.5718176e-03]]], dtype=float32)>"
      ]
     },
     "execution_count": 15,
     "metadata": {},
     "output_type": "execute_result"
    }
   ],
   "source": [
    "# 데이터셋에서 데이터 한 배치만 불러오는 방법입니다.\n",
    "# 지금은 동작 원리에 너무 빠져들지 마세요~\n",
    "for src_sample, tgt_sample in dataset.take(1): break\n",
    "\n",
    "# 한 배치만 불러온 데이터를 모델에 넣어봅니다\n",
    "model(src_sample)"
   ]
  },
  {
   "cell_type": "code",
   "execution_count": 16,
   "id": "retired-lindsay",
   "metadata": {},
   "outputs": [
    {
     "name": "stdout",
     "output_type": "stream",
     "text": [
      "Model: \"text_generator\"\n",
      "_________________________________________________________________\n",
      "Layer (type)                 Output Shape              Param #   \n",
      "=================================================================\n",
      "embedding (Embedding)        multiple                  1792256   \n",
      "_________________________________________________________________\n",
      "lstm (LSTM)                  multiple                  5246976   \n",
      "_________________________________________________________________\n",
      "lstm_1 (LSTM)                multiple                  8392704   \n",
      "_________________________________________________________________\n",
      "dense (Dense)                multiple                  7176025   \n",
      "=================================================================\n",
      "Total params: 22,607,961\n",
      "Trainable params: 22,607,961\n",
      "Non-trainable params: 0\n",
      "_________________________________________________________________\n"
     ]
    }
   ],
   "source": [
    "model.summary()"
   ]
  },
  {
   "cell_type": "code",
   "execution_count": 17,
   "id": "collected-precipitation",
   "metadata": {},
   "outputs": [
    {
     "name": "stdout",
     "output_type": "stream",
     "text": [
      "Epoch 1/30\n",
      "93/93 [==============================] - 35s 347ms/step - loss: 4.4308\n",
      "Epoch 2/30\n",
      "93/93 [==============================] - 32s 347ms/step - loss: 2.8333\n",
      "Epoch 3/30\n",
      "93/93 [==============================] - 33s 349ms/step - loss: 2.7573\n",
      "Epoch 4/30\n",
      "93/93 [==============================] - 33s 349ms/step - loss: 2.6548\n",
      "Epoch 5/30\n",
      "93/93 [==============================] - 33s 350ms/step - loss: 2.5778\n",
      "Epoch 6/30\n",
      "93/93 [==============================] - 33s 350ms/step - loss: 2.5216\n",
      "Epoch 7/30\n",
      "93/93 [==============================] - 33s 352ms/step - loss: 2.4828\n",
      "Epoch 8/30\n",
      "93/93 [==============================] - 33s 351ms/step - loss: 2.4367\n",
      "Epoch 9/30\n",
      "93/93 [==============================] - 33s 351ms/step - loss: 2.3837\n",
      "Epoch 10/30\n",
      "93/93 [==============================] - 33s 351ms/step - loss: 2.3363\n",
      "Epoch 11/30\n",
      "93/93 [==============================] - 33s 351ms/step - loss: 2.2876\n",
      "Epoch 12/30\n",
      "93/93 [==============================] - 33s 352ms/step - loss: 2.2455\n",
      "Epoch 13/30\n",
      "93/93 [==============================] - 33s 351ms/step - loss: 2.2039\n",
      "Epoch 14/30\n",
      "93/93 [==============================] - 33s 351ms/step - loss: 2.1671\n",
      "Epoch 15/30\n",
      "93/93 [==============================] - 33s 352ms/step - loss: 2.1223\n",
      "Epoch 16/30\n",
      "93/93 [==============================] - 33s 351ms/step - loss: 2.0907\n",
      "Epoch 17/30\n",
      "93/93 [==============================] - 33s 352ms/step - loss: 2.0512\n",
      "Epoch 18/30\n",
      "93/93 [==============================] - 33s 351ms/step - loss: 2.0105\n",
      "Epoch 19/30\n",
      "93/93 [==============================] - 33s 352ms/step - loss: 1.9734\n",
      "Epoch 20/30\n",
      "93/93 [==============================] - 33s 352ms/step - loss: 1.9359\n",
      "Epoch 21/30\n",
      "93/93 [==============================] - 33s 352ms/step - loss: 1.8933\n",
      "Epoch 22/30\n",
      "93/93 [==============================] - 33s 351ms/step - loss: 1.8633\n",
      "Epoch 23/30\n",
      "93/93 [==============================] - 33s 353ms/step - loss: 1.8225\n",
      "Epoch 24/30\n",
      "93/93 [==============================] - 33s 351ms/step - loss: 1.7788\n",
      "Epoch 25/30\n",
      "93/93 [==============================] - 33s 351ms/step - loss: 1.7439\n",
      "Epoch 26/30\n",
      "93/93 [==============================] - 33s 351ms/step - loss: 1.7148\n",
      "Epoch 27/30\n",
      "93/93 [==============================] - 33s 351ms/step - loss: 1.6735\n",
      "Epoch 28/30\n",
      "93/93 [==============================] - 33s 352ms/step - loss: 1.6404\n",
      "Epoch 29/30\n",
      "93/93 [==============================] - 33s 350ms/step - loss: 1.5987\n",
      "Epoch 30/30\n",
      "93/93 [==============================] - 33s 351ms/step - loss: 1.5678\n"
     ]
    },
    {
     "data": {
      "text/plain": [
       "<tensorflow.python.keras.callbacks.History at 0x7fe9488bec10>"
      ]
     },
     "execution_count": 17,
     "metadata": {},
     "output_type": "execute_result"
    }
   ],
   "source": [
    "# optimizer와 loss등은 차차 배웁니다\n",
    "# 혹시 미리 알고 싶다면 아래 문서를 참고하세요\n",
    "# https://www.tensorflow.org/api_docs/python/tf/keras/optimizers\n",
    "# https://www.tensorflow.org/api_docs/python/tf/keras/losses\n",
    "# 양이 상당히 많은 편이니 지금 보는 것은 추천하지 않습니다\n",
    "optimizer = tf.keras.optimizers.Adam()\n",
    "loss = tf.keras.losses.SparseCategoricalCrossentropy(\n",
    "    from_logits=True,\n",
    "    reduction='none'\n",
    ")\n",
    "\n",
    "model.compile(loss=loss, optimizer=optimizer)\n",
    "model.fit(dataset, epochs=30)"
   ]
  },
  {
   "cell_type": "code",
   "execution_count": 19,
   "id": "becoming-aaron",
   "metadata": {},
   "outputs": [],
   "source": [
    "def generate_text(model, tokenizer, init_sentence=\"<start>\", max_len=20):\n",
    "    # 테스트를 위해서 입력받은 init_sentence도 텐서로 변환합니다\n",
    "    test_input = tokenizer.texts_to_sequences([init_sentence])\n",
    "    test_tensor = tf.convert_to_tensor(test_input, dtype=tf.int64)\n",
    "    end_token = tokenizer.word_index[\"<end>\"]\n",
    "\n",
    "    # 단어 하나씩 예측해 문장을 만듭니다\n",
    "    #    1. 입력받은 문장의 텐서를 입력합니다\n",
    "    #    2. 예측된 값 중 가장 높은 확률인 word index를 뽑아냅니다\n",
    "    #    3. 2에서 예측된 word index를 문장 뒤에 붙입니다\n",
    "    #    4. 모델이 <end>를 예측했거나, max_len에 도달했다면 문장 생성을 마칩니다\n",
    "    while True:\n",
    "        # 1\n",
    "        predict = model(test_tensor) \n",
    "        # 2\n",
    "        predict_word = tf.argmax(tf.nn.softmax(predict, axis=-1), axis=-1)[:, -1] \n",
    "        # 3 \n",
    "        test_tensor = tf.concat([test_tensor, tf.expand_dims(predict_word, axis=0)], axis=-1)\n",
    "        # 4\n",
    "        if predict_word.numpy()[0] == end_token: break\n",
    "        if test_tensor.shape[1] >= max_len: break\n",
    "\n",
    "    generated = \"\"\n",
    "    # tokenizer를 이용해 word index를 단어로 하나씩 변환합니다 \n",
    "    for word_index in test_tensor[0].numpy():\n",
    "        generated += tokenizer.index_word[word_index] + \" \"\n",
    "\n",
    "    return generated"
   ]
  },
  {
   "cell_type": "code",
   "execution_count": 21,
   "id": "correct-protein",
   "metadata": {},
   "outputs": [
    {
     "data": {
      "text/plain": [
       "'<start> i ll tell you what i shall not be a king . <end> '"
      ]
     },
     "execution_count": 21,
     "metadata": {},
     "output_type": "execute_result"
    }
   ],
   "source": [
    "generate_text(model, tokenizer, init_sentence=\"<start> I\")"
   ]
  },
  {
   "cell_type": "code",
   "execution_count": 23,
   "id": "criminal-skiing",
   "metadata": {},
   "outputs": [
    {
     "name": "stdout",
     "output_type": "stream",
     "text": [
      "데이터 크기: 187088\n",
      "Examples:\n",
      " ['[Hook]', \"I've been down so long, it look like up to me\", 'They look up to me']\n"
     ]
    }
   ],
   "source": [
    "import glob\n",
    "import os\n",
    "\n",
    "txt_file_path = os.getenv('HOME')+'/aiffel/lyricist/data/lyrics/*'\n",
    "\n",
    "txt_list = glob.glob(txt_file_path)\n",
    "\n",
    "raw_corpus = []\n",
    "\n",
    "# 여러개의 txt 파일을 모두 읽어서 raw_corpus 에 담습니다.\n",
    "for txt_file in txt_list:\n",
    "    with open(txt_file, \"r\") as f:\n",
    "        raw = f.read().splitlines()\n",
    "        raw_corpus.extend(raw)\n",
    "\n",
    "print(\"데이터 크기:\", len(raw_corpus))\n",
    "print(\"Examples:\\n\", raw_corpus[:3])"
   ]
  },
  {
   "cell_type": "code",
   "execution_count": 25,
   "id": "adopted-investing",
   "metadata": {},
   "outputs": [
    {
     "name": "stdout",
     "output_type": "stream",
     "text": [
      "<start> this is sample sentence . <end>\n"
     ]
    }
   ],
   "source": [
    "# 입력된 문장을\n",
    "#     1. 소문자로 바꾸고, 양쪽 공백을 지웁니다\n",
    "#     2. 특수문자 양쪽에 공백을 넣고\n",
    "#     3. 여러개의 공백은 하나의 공백으로 바꿉니다\n",
    "#     4. a-zA-Z?.!,¿가 아닌 모든 문자를 하나의 공백으로 바꿉니다\n",
    "#     5. 다시 양쪽 공백을 지웁니다\n",
    "#     6. 문장 시작에는 <start>, 끝에는 <end>를 추가합니다\n",
    "# 이 순서로 처리해주면 문제가 되는 상황을 방지할 수 있겠네요!\n",
    "def preprocess_sentence(sentence):\n",
    "    sentence = sentence.lower().strip() # 1\n",
    "    sentence = re.sub(r\"([?.!,¿])\", r\" \\1 \", sentence) # 2\n",
    "    sentence = re.sub(r'[\" \"]+', \" \", sentence) # 3\n",
    "    sentence = re.sub(r\"[^a-zA-Z?.!,¿]+\", \" \", sentence) # 4\n",
    "    sentence = sentence.strip() # 5\n",
    "    sentence = '<start> ' + sentence + ' <end>' # 6\n",
    "    return sentence\n",
    "\n",
    "# 이 문장이 어떻게 필터링되는지 확인해 보세요.\n",
    "print(preprocess_sentence(\"This @_is ;;;sample        sentence.\"))"
   ]
  },
  {
   "cell_type": "code",
   "execution_count": 26,
   "id": "found-fetish",
   "metadata": {},
   "outputs": [
    {
     "data": {
      "text/plain": [
       "['<start> hook <end>',\n",
       " '<start> i ve been down so long , it look like up to me <end>',\n",
       " '<start> they look up to me <end>',\n",
       " '<start> i got fake people showin fake love to me <end>',\n",
       " '<start> straight up to my face , straight up to my face <end>',\n",
       " '<start> i ve been down so long , it look like up to me <end>',\n",
       " '<start> they look up to me <end>',\n",
       " '<start> i got fake people showin fake love to me <end>',\n",
       " '<start> straight up to my face , straight up to my face verse <end>',\n",
       " '<start> somethin ain t right when we talkin <end>']"
      ]
     },
     "execution_count": 26,
     "metadata": {},
     "output_type": "execute_result"
    }
   ],
   "source": [
    "# 여기에 정제된 문장을 모을겁니다\n",
    "corpus = []\n",
    "\n",
    "for sentence in raw_corpus:\n",
    "    # 우리가 원하지 않는 문장은 건너뜁니다\n",
    "    if len(sentence) == 0: continue\n",
    "    if sentence[-1] == \":\": continue\n",
    "\n",
    "    # 정제를 하고 담아주세요\n",
    "    preprocessed_sentence = preprocess_sentence(sentence)\n",
    "    if len(preprocessed_sentence.split(\" \")) <= 15:\n",
    "        corpus.append(preprocessed_sentence)\n",
    "\n",
    "# 정제된 결과를 10개만 확인해보죠\n",
    "corpus[:10]"
   ]
  },
  {
   "cell_type": "code",
   "execution_count": 27,
   "id": "knowing-zimbabwe",
   "metadata": {},
   "outputs": [],
   "source": [
    "dict_size = 13000"
   ]
  },
  {
   "cell_type": "code",
   "execution_count": 28,
   "id": "limiting-sampling",
   "metadata": {},
   "outputs": [
    {
     "name": "stdout",
     "output_type": "stream",
     "text": [
      "[[   2  966    3 ...    0    0    0]\n",
      " [   2    4   95 ...   10   12    3]\n",
      " [   2   38  133 ...    0    0    0]\n",
      " ...\n",
      " [   2  202    3 ...    0    0    0]\n",
      " [   2  415    9 ...    0    0    0]\n",
      " [   2    9 1558 ...    0    0    0]] <keras_preprocessing.text.Tokenizer object at 0x7fe9488be390>\n"
     ]
    }
   ],
   "source": [
    "# 토큰화 할 때 텐서플로우의 Tokenizer와 pad_sequences를 사용합니다\n",
    "# 더 잘 알기 위해 아래 문서들을 참고하면 좋습니다\n",
    "# https://www.tensorflow.org/api_docs/python/tf/keras/preprocessing/text/Tokenizer\n",
    "# https://www.tensorflow.org/api_docs/python/tf/keras/preprocessing/sequence/pad_sequences\n",
    "def tokenize(corpus, dict_size):\n",
    "    # 13000단어를 기억할 수 있는 tokenizer를 만들겁니다\n",
    "    # 우리는 이미 문장을 정제했으니 filters가 필요없어요\n",
    "    # 13000단어에 포함되지 못한 단어는 '<unk>'로 바꿀거에요\n",
    "    tokenizer = tf.keras.preprocessing.text.Tokenizer(\n",
    "        num_words=dict_size,\n",
    "        filters=' ',\n",
    "        oov_token=\"<unk>\"\n",
    "    )\n",
    "    # corpus를 이용해 tokenizer 내부의 단어장을 완성합니다\n",
    "    tokenizer.fit_on_texts(corpus)\n",
    "    # 준비한 tokenizer를 이용해 corpus를 Tensor로 변환합니다\n",
    "    tensor = tokenizer.texts_to_sequences(corpus)\n",
    "    # 입력 데이터의 시퀀스 길이를 일정하게 맞춰줍니다\n",
    "    # 만약 시퀀스가 짧다면 문장 뒤에 패딩을 붙여 길이를 맞춰줍니다.\n",
    "    # 문장 앞에 패딩을 붙여 길이를 맞추고 싶다면 padding='pre'를 사용합니다\n",
    "    tensor = tf.keras.preprocessing.sequence.pad_sequences(tensor, padding='post', maxlen=15)\n",
    "\n",
    "    print(tensor,tokenizer)\n",
    "    return tensor, tokenizer\n",
    "\n",
    "tensor, tokenizer = tokenize(corpus, dict_size)"
   ]
  },
  {
   "cell_type": "code",
   "execution_count": null,
   "id": "downtown-victorian",
   "metadata": {},
   "outputs": [],
   "source": []
  }
 ],
 "metadata": {
  "kernelspec": {
   "display_name": "Python 3",
   "language": "python",
   "name": "python3"
  },
  "language_info": {
   "codemirror_mode": {
    "name": "ipython",
    "version": 3
   },
   "file_extension": ".py",
   "mimetype": "text/x-python",
   "name": "python",
   "nbconvert_exporter": "python",
   "pygments_lexer": "ipython3",
   "version": "3.7.9"
  }
 },
 "nbformat": 4,
 "nbformat_minor": 5
}
